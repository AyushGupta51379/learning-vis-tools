{
  "nbformat": 4,
  "nbformat_minor": 0,
  "metadata": {
    "colab": {
      "name": "T04:python-and-pandas-basics.ipynb",
      "version": "0.3.2",
      "provenance": [],
      "collapsed_sections": [],
      "toc_visible": true
    },
    "kernelspec": {
      "name": "python3",
      "display_name": "Python 3"
    }
  },
  "cells": [
    {
      "metadata": {
        "id": "Nk-Ktu_NsIET",
        "colab_type": "text"
      },
      "cell_type": "markdown",
      "source": [
        "# COMP 4462 Data Visualization Tutorial 4: Python, Jupyter and Pandas"
      ]
    },
    {
      "metadata": {
        "id": "LlzDz5cHLSn6",
        "colab_type": "text"
      },
      "cell_type": "markdown",
      "source": [
        "In this tutorial, we will learn about the basics of Python through using an interactive programming environment (REPL, read-evaluate-print-loop), which is this [Jupyter](https://jupyter.org/) notebook you are looking at.\n",
        "\n",
        "Jupyter notebook is widely used in the data science community, and Google provides [Colab](https://colab.research.google.com/), an installation-free and widely accessible version of Jupyter notebook. To save troubles setting up Jupyter notebook, you can view this notebook on Google Colab ([https://bit.ly/vis-t04-nb](https://bit.ly/vis-t04-nb)).\n",
        "\n",
        "All the materials of this tutorial is hosted on [this GitHub repository](https://github.com/leoyuholo/learning-vis-tools/tree/master/tutorial04)."
      ]
    },
    {
      "metadata": {
        "id": "JEDCj6TWsg1X",
        "colab_type": "text"
      },
      "cell_type": "markdown",
      "source": [
        "## Python and Jupyter Basics"
      ]
    },
    {
      "metadata": {
        "id": "_78yOGJFcnze",
        "colab_type": "text"
      },
      "cell_type": "markdown",
      "source": [
        "### First Jupyter shortcut: shift+enter\n",
        "\n",
        "Press shift+enter to run a \"cell\", a cell is a code block that runs separately from the other code blocks. The first time you run a cell on Google Colab, it  will take a few seconds to create a runtime for you to run code on the remote server, which has separate computational power, RAM and storage from your laptop or desktop.\n",
        "\n",
        "Sometimes, a code block contains only one statement, sometimes multiple statements, that's why we call them \"blocks\". And the content is not necessarily Python statements, it can be shell commands as well, we will see, keep reading!"
      ]
    },
    {
      "metadata": {
        "id": "d7d2MeBssvpe",
        "colab_type": "text"
      },
      "cell_type": "markdown",
      "source": [
        "### Print"
      ]
    },
    {
      "metadata": {
        "id": "1MngLn3AOUjM",
        "colab_type": "code",
        "outputId": "639a294b-9881-495f-fcd0-268c0336c0bc",
        "colab": {
          "base_uri": "https://localhost:8080/",
          "height": 34
        }
      },
      "cell_type": "code",
      "source": [
        "# Print\n",
        "\n",
        "print(\"Hello, welcome to COMP 4462!\")"
      ],
      "execution_count": 1,
      "outputs": [
        {
          "output_type": "stream",
          "text": [
            "Hello, welcome to COMP 4462!\n"
          ],
          "name": "stdout"
        }
      ]
    },
    {
      "metadata": {
        "id": "Y5ZWoXJIQnsN",
        "colab_type": "code",
        "outputId": "58048b6f-5808-45aa-bf86-a00c7b4d793f",
        "colab": {
          "base_uri": "https://localhost:8080/",
          "height": 34
        }
      },
      "cell_type": "code",
      "source": [
        "################################################################################\n",
        "# TODO:                                                                        #\n",
        "# Try to print something on your own!                                          #\n",
        "################################################################################\n",
        "\n",
        "print(\"\")\n",
        "\n",
        "################################################################################\n",
        "#                                 END OF YOUR CODE                             #\n",
        "################################################################################"
      ],
      "execution_count": 2,
      "outputs": [
        {
          "output_type": "stream",
          "text": [
            "\n"
          ],
          "name": "stdout"
        }
      ]
    },
    {
      "metadata": {
        "id": "7lMyagzaRIeS",
        "colab_type": "text"
      },
      "cell_type": "markdown",
      "source": [
        "### Basic Data Types"
      ]
    },
    {
      "metadata": {
        "id": "QAQnbV6mcv_h",
        "colab_type": "text"
      },
      "cell_type": "markdown",
      "source": [
        "You have seen a string above when trying to print \"Hello\". We will see more data types:\n",
        "\n",
        "- String, e.g. \"Hello, world!\"\n",
        "- Numeric, e.g. 4462\n",
        "- Booleans, e.g. True, False\n",
        "- None, None is the null/undefined in Python\n",
        "- Parsing string to numberic, e.g. int(\"123\"), float(\"123.45\")\n",
        "\n",
        "Declaring a variable in Python is just assign a value to a new variable, it will automatically detect whehter the variable is declared, if not, create a new variable with the value assigned to it, otherwise, update the value."
      ]
    },
    {
      "metadata": {
        "id": "aaQ2pOlsRLd-",
        "colab_type": "code",
        "colab": {}
      },
      "cell_type": "code",
      "source": [
        "# Variables and arithmetic\n",
        "\n",
        "pie = 3.1415\n",
        "degree = 60\n",
        "radian = degree * pie / 180"
      ],
      "execution_count": 0,
      "outputs": []
    },
    {
      "metadata": {
        "id": "agKeIHz7dGwP",
        "colab_type": "text"
      },
      "cell_type": "markdown",
      "source": [
        "If the last statement of a cell is an expression (i.e. not an assignment statement), Jupyter notebook will print the evaluated value of the expression automatically.\n",
        "\n",
        "Like printing the `radian` variable is to just write `radian`\n"
      ]
    },
    {
      "metadata": {
        "id": "e7n3ngdXTYAC",
        "colab_type": "code",
        "outputId": "329a866b-0a55-4ff3-fb1d-16597213e7ed",
        "colab": {
          "base_uri": "https://localhost:8080/",
          "height": 34
        }
      },
      "cell_type": "code",
      "source": [
        "radian"
      ],
      "execution_count": 4,
      "outputs": [
        {
          "output_type": "execute_result",
          "data": {
            "text/plain": [
              "1.0471666666666668"
            ]
          },
          "metadata": {
            "tags": []
          },
          "execution_count": 4
        }
      ]
    },
    {
      "metadata": {
        "id": "Xzi-khoNUMEr",
        "colab_type": "code",
        "outputId": "ce9ae06f-e0df-4ae1-dd40-a4591724a90a",
        "colab": {
          "base_uri": "https://localhost:8080/",
          "height": 34
        }
      },
      "cell_type": "code",
      "source": [
        "# Or any expressions\n",
        "\n",
        "radian * 180 / pie"
      ],
      "execution_count": 5,
      "outputs": [
        {
          "output_type": "execute_result",
          "data": {
            "text/plain": [
              "60.00000000000001"
            ]
          },
          "metadata": {
            "tags": []
          },
          "execution_count": 5
        }
      ]
    },
    {
      "metadata": {
        "id": "4Cvb3T6RCPn3",
        "colab_type": "code",
        "colab": {}
      },
      "cell_type": "code",
      "source": [
        "################################################################################\n",
        "# TODO:                                                                        #\n",
        "# Try to calculate the radian of 45 degrees!                                   #\n",
        "################################################################################\n",
        "\n",
        "\n",
        "\n",
        "################################################################################\n",
        "#                                 END OF YOUR CODE                             #\n",
        "################################################################################"
      ],
      "execution_count": 0,
      "outputs": []
    },
    {
      "metadata": {
        "id": "eFeSt3VmXLZj",
        "colab_type": "text"
      },
      "cell_type": "markdown",
      "source": [
        "### List, tuple and dictionary"
      ]
    },
    {
      "metadata": {
        "id": "7hpl2E1wAKCc",
        "colab_type": "text"
      },
      "cell_type": "markdown",
      "source": [
        "#### List"
      ]
    },
    {
      "metadata": {
        "id": "FVZQgEp-dZL0",
        "colab_type": "text"
      },
      "cell_type": "markdown",
      "source": [
        "For simplicity, you can treat list in Python as array in other languages. In Python, the use of list is much more common than array."
      ]
    },
    {
      "metadata": {
        "id": "jMp84obGXTGc",
        "colab_type": "code",
        "outputId": "441b85a4-2895-44e8-e3cf-9ca5b5a5fc22",
        "colab": {
          "base_uri": "https://localhost:8080/",
          "height": 34
        }
      },
      "cell_type": "code",
      "source": [
        "# List\n",
        "\n",
        "visual_channels = [\"position\", \"length\", \"angle\", \"area\", \"color\", \"curvature\"]\n",
        "visual_channels"
      ],
      "execution_count": 7,
      "outputs": [
        {
          "output_type": "execute_result",
          "data": {
            "text/plain": [
              "['position', 'length', 'angle', 'area', 'color', 'curvature']"
            ]
          },
          "metadata": {
            "tags": []
          },
          "execution_count": 7
        }
      ]
    },
    {
      "metadata": {
        "id": "5g1hv57-XoSd",
        "colab_type": "code",
        "outputId": "6c95d1b8-e3a7-4e71-ad07-812d3555f7a8",
        "colab": {
          "base_uri": "https://localhost:8080/",
          "height": 34
        }
      },
      "cell_type": "code",
      "source": [
        "# Accessing items in a list is just like accessing an array with square \n",
        "# brackets []\n",
        "\n",
        "\"Most effective channel: \" + visual_channels[0]"
      ],
      "execution_count": 8,
      "outputs": [
        {
          "output_type": "execute_result",
          "data": {
            "text/plain": [
              "'Most effective channel: position'"
            ]
          },
          "metadata": {
            "tags": []
          },
          "execution_count": 8
        }
      ]
    },
    {
      "metadata": {
        "id": "l6z2DrwEBHzz",
        "colab_type": "code",
        "colab": {
          "base_uri": "https://localhost:8080/",
          "height": 34
        },
        "outputId": "460f435d-7efc-422f-b7ba-93deadb63bc6"
      },
      "cell_type": "code",
      "source": [
        "# To get a slice of a list\n",
        "\n",
        "visual_channels[1:3]"
      ],
      "execution_count": 9,
      "outputs": [
        {
          "output_type": "execute_result",
          "data": {
            "text/plain": [
              "['length', 'angle']"
            ]
          },
          "metadata": {
            "tags": []
          },
          "execution_count": 9
        }
      ]
    },
    {
      "metadata": {
        "id": "5t3O-QUuAVkv",
        "colab_type": "code",
        "colab": {
          "base_uri": "https://localhost:8080/",
          "height": 34
        },
        "outputId": "61ad05ec-71d0-4306-c7d2-a917613fe79a"
      },
      "cell_type": "code",
      "source": [
        "# To append an item to a list, we use the 'append' method\n",
        "\n",
        "visual_channels.append('shape')\n",
        "visual_channels"
      ],
      "execution_count": 10,
      "outputs": [
        {
          "output_type": "execute_result",
          "data": {
            "text/plain": [
              "['position', 'length', 'angle', 'area', 'color', 'curvature', 'shape']"
            ]
          },
          "metadata": {
            "tags": []
          },
          "execution_count": 10
        }
      ]
    },
    {
      "metadata": {
        "id": "7MC32eeoBYSH",
        "colab_type": "code",
        "colab": {
          "base_uri": "https://localhost:8080/",
          "height": 187
        },
        "outputId": "0e7e1751-b419-4f7b-e1f7-44c42b9c3afd"
      },
      "cell_type": "code",
      "source": [
        "# To concatenate two list, just add them up. Remember to assign the sum to a new\n",
        "# variable\n",
        "\n",
        "more_visual_channels = visual_channels + ['color hue', 'color saturation', 'color luminance']\n",
        "more_visual_channels"
      ],
      "execution_count": 11,
      "outputs": [
        {
          "output_type": "execute_result",
          "data": {
            "text/plain": [
              "['position',\n",
              " 'length',\n",
              " 'angle',\n",
              " 'area',\n",
              " 'color',\n",
              " 'curvature',\n",
              " 'shape',\n",
              " 'color hue',\n",
              " 'color saturation',\n",
              " 'color luminance']"
            ]
          },
          "metadata": {
            "tags": []
          },
          "execution_count": 11
        }
      ]
    },
    {
      "metadata": {
        "id": "Ui7I7HPYBzrx",
        "colab_type": "code",
        "colab": {
          "base_uri": "https://localhost:8080/",
          "height": 187
        },
        "outputId": "d2683e13-3c74-4a5e-dd57-1a91617a2136"
      },
      "cell_type": "code",
      "source": [
        "# To sort a list, we use 'sort'\n",
        "\n",
        "more_visual_channels.sort()\n",
        "more_visual_channels"
      ],
      "execution_count": 12,
      "outputs": [
        {
          "output_type": "execute_result",
          "data": {
            "text/plain": [
              "['angle',\n",
              " 'area',\n",
              " 'color',\n",
              " 'color hue',\n",
              " 'color luminance',\n",
              " 'color saturation',\n",
              " 'curvature',\n",
              " 'length',\n",
              " 'position',\n",
              " 'shape']"
            ]
          },
          "metadata": {
            "tags": []
          },
          "execution_count": 12
        }
      ]
    },
    {
      "metadata": {
        "id": "HY-p7IBvAjJ1",
        "colab_type": "code",
        "colab": {
          "base_uri": "https://localhost:8080/",
          "height": 34
        },
        "outputId": "d9d3a8d6-c146-436b-90bc-24f1b62f69e2"
      },
      "cell_type": "code",
      "source": [
        "# To remove an item from a list, we use 'remove'\n",
        "\n",
        "visual_channels.remove('length')\n",
        "visual_channels"
      ],
      "execution_count": 13,
      "outputs": [
        {
          "output_type": "execute_result",
          "data": {
            "text/plain": [
              "['position', 'angle', 'area', 'color', 'curvature', 'shape']"
            ]
          },
          "metadata": {
            "tags": []
          },
          "execution_count": 13
        }
      ]
    },
    {
      "metadata": {
        "id": "0dOCQyNYA5qt",
        "colab_type": "code",
        "colab": {
          "base_uri": "https://localhost:8080/",
          "height": 34
        },
        "outputId": "bd960961-591c-412a-e1a1-54a8f955d30f"
      },
      "cell_type": "code",
      "source": [
        "# To remove an item by its index\n",
        "\n",
        "del visual_channels[2]\n",
        "visual_channels"
      ],
      "execution_count": 14,
      "outputs": [
        {
          "output_type": "execute_result",
          "data": {
            "text/plain": [
              "['position', 'angle', 'color', 'curvature', 'shape']"
            ]
          },
          "metadata": {
            "tags": []
          },
          "execution_count": 14
        }
      ]
    },
    {
      "metadata": {
        "id": "RP2erdtoCZbx",
        "colab_type": "code",
        "colab": {}
      },
      "cell_type": "code",
      "source": [
        "################################################################################\n",
        "# TODO:                                                                        #\n",
        "# Try to create two lists of colors, then concatenate them, and sort in        #\n",
        "# alphabetical order.                                                          #\n",
        "# The two lists are                                                            #\n",
        "# red, green, blue                                                             #\n",
        "# cyan, magenta yellow, black                                                  #\n",
        "################################################################################\n",
        "\n",
        "\n",
        "\n",
        "################################################################################\n",
        "#                                 END OF YOUR CODE                             #\n",
        "################################################################################"
      ],
      "execution_count": 0,
      "outputs": []
    },
    {
      "metadata": {
        "id": "OrWObpToAPI6",
        "colab_type": "text"
      },
      "cell_type": "markdown",
      "source": [
        "#### Tuple"
      ]
    },
    {
      "metadata": {
        "id": "NA3d5khtXXn0",
        "colab_type": "code",
        "outputId": "81b926da-9504-4496-f9ee-99167f5fe07f",
        "colab": {
          "base_uri": "https://localhost:8080/",
          "height": 34
        }
      },
      "cell_type": "code",
      "source": [
        "# Tuple\n",
        "\n",
        "tutorial = (\"Python\", \"Jupyter notebook\", [\"Pandas\", \"altair\"])\n",
        "tutorial"
      ],
      "execution_count": 16,
      "outputs": [
        {
          "output_type": "execute_result",
          "data": {
            "text/plain": [
              "('Python', 'Jupyter notebook', ['Pandas', 'altair'])"
            ]
          },
          "metadata": {
            "tags": []
          },
          "execution_count": 16
        }
      ]
    },
    {
      "metadata": {
        "id": "neixWbkHZ3HO",
        "colab_type": "code",
        "outputId": "6d2e5927-2513-4192-d66e-4ae16f4aac81",
        "colab": {
          "base_uri": "https://localhost:8080/",
          "height": 68
        }
      },
      "cell_type": "code",
      "source": [
        "# Unpacking tuple\n",
        "# It is like assigning values to variable position by position, Be careful that \n",
        "# the number of items in the tuple needs to match the number of variables\n",
        "\n",
        "language, tool, libraries = tutorial\n",
        "print(\"Programming language: \", language)\n",
        "print(\"Running on: \", tool)\n",
        "print(f\"Libraries: {libraries[0]}, {libraries[1]}\")"
      ],
      "execution_count": 17,
      "outputs": [
        {
          "output_type": "stream",
          "text": [
            "Programming language:  Python\n",
            "Running on:  Jupyter notebook\n",
            "Libraries: Pandas, altair\n"
          ],
          "name": "stdout"
        }
      ]
    },
    {
      "metadata": {
        "id": "YrMi7d1FATaK",
        "colab_type": "text"
      },
      "cell_type": "markdown",
      "source": [
        "#### Dictionary"
      ]
    },
    {
      "metadata": {
        "id": "IVvnx-o0XZ9X",
        "colab_type": "code",
        "outputId": "a29664c1-a772-4f45-c212-9a0628918235",
        "colab": {
          "base_uri": "https://localhost:8080/",
          "height": 34
        }
      },
      "cell_type": "code",
      "source": [
        "# Dictionary\n",
        "\n",
        "types_of_data = {\n",
        "    \"ordered\": [1, 2, 3, 4, 5],\n",
        "    \"categorial\": [\"strawberry\", \"apple\", \"orange\"]\n",
        "}\n",
        "types_of_data"
      ],
      "execution_count": 18,
      "outputs": [
        {
          "output_type": "execute_result",
          "data": {
            "text/plain": [
              "{'categorial': ['strawberry', 'apple', 'orange'], 'ordered': [1, 2, 3, 4, 5]}"
            ]
          },
          "metadata": {
            "tags": []
          },
          "execution_count": 18
        }
      ]
    },
    {
      "metadata": {
        "id": "FxTLndlk_VSV",
        "colab_type": "code",
        "colab": {
          "base_uri": "https://localhost:8080/",
          "height": 34
        },
        "outputId": "5ccb2abc-72c1-4c70-be64-5492984aab8b"
      },
      "cell_type": "code",
      "source": [
        "# Accessing entries in a dictionary by keys. It is like accessing an array with \n",
        "# indexes other than integers\n",
        "\n",
        "types_of_data[\"categorial\"]"
      ],
      "execution_count": 19,
      "outputs": [
        {
          "output_type": "execute_result",
          "data": {
            "text/plain": [
              "['strawberry', 'apple', 'orange']"
            ]
          },
          "metadata": {
            "tags": []
          },
          "execution_count": 19
        }
      ]
    },
    {
      "metadata": {
        "id": "9bNyH27bEAy3",
        "colab_type": "code",
        "colab": {}
      },
      "cell_type": "code",
      "source": [
        "################################################################################\n",
        "# TODO:                                                                        #\n",
        "# Try to access the values of the \"ordered\" entry!                             #\n",
        "################################################################################\n",
        "\n",
        "\n",
        "\n",
        "################################################################################\n",
        "#                                 END OF YOUR CODE                             #\n",
        "################################################################################"
      ],
      "execution_count": 0,
      "outputs": []
    },
    {
      "metadata": {
        "id": "wKlMPJ_ScTyr",
        "colab_type": "text"
      },
      "cell_type": "markdown",
      "source": [
        "### Functions"
      ]
    },
    {
      "metadata": {
        "id": "vwo_3tOacWxL",
        "colab_type": "code",
        "colab": {
          "base_uri": "https://localhost:8080/",
          "height": 34
        },
        "outputId": "e2b12819-f331-484b-a1e2-aa98037363ab"
      },
      "cell_type": "code",
      "source": [
        "# Define a function\n",
        "\n",
        "def int2hex (n):\n",
        "  return (\"0x%0.2X\" % n)[2:]\n",
        "\n",
        "int2hex(255)"
      ],
      "execution_count": 21,
      "outputs": [
        {
          "output_type": "execute_result",
          "data": {
            "text/plain": [
              "'FF'"
            ]
          },
          "metadata": {
            "tags": []
          },
          "execution_count": 21
        }
      ]
    },
    {
      "metadata": {
        "id": "yqi3XErTJRDA",
        "colab_type": "code",
        "colab": {
          "base_uri": "https://localhost:8080/",
          "height": 51
        },
        "outputId": "f023a6d9-3f17-472f-8a18-723fdd766dc3"
      },
      "cell_type": "code",
      "source": [
        "# Define a function with named arguments\n",
        "\n",
        "def rgb2hex (red=0, green=0, blue=0):\n",
        "  return '#' + int2hex(red) + int2hex(green) + int2hex(blue)\n",
        "\n",
        "print(rgb2hex(211))\n",
        "print(rgb2hex(green=255))"
      ],
      "execution_count": 22,
      "outputs": [
        {
          "output_type": "stream",
          "text": [
            "#D30000\n",
            "#00FF00\n"
          ],
          "name": "stdout"
        }
      ]
    },
    {
      "metadata": {
        "id": "eT96S6qkJdrB",
        "colab_type": "code",
        "colab": {}
      },
      "cell_type": "code",
      "source": [
        "################################################################################\n",
        "# TODO:                                                                        #\n",
        "# Try to create a function that returns hex code in tuple!                     #\n",
        "# Replace the \"...\" with your code.                                            #\n",
        "# Get the hex code of RGB 64, 224, 208                                         #\n",
        "################################################################################\n",
        "\n",
        "# def rgb2hex_tuple (..., ..., ...):\n",
        "#   return (..., ..., ...)\n",
        "\n",
        "# ..., ..., ... = rgb2hex_tuple(..., ..., ...)\n",
        "\n",
        "################################################################################\n",
        "#                                 END OF YOUR CODE                             #\n",
        "################################################################################"
      ],
      "execution_count": 0,
      "outputs": []
    },
    {
      "metadata": {
        "id": "WSmCUDvgXiqh",
        "colab_type": "text"
      },
      "cell_type": "markdown",
      "source": [
        "### Logic flow and loop"
      ]
    },
    {
      "metadata": {
        "id": "Mf3yJw4hbM-B",
        "colab_type": "code",
        "outputId": "14fa8d6c-ec32-4841-eb65-ddb15b8f5365",
        "colab": {
          "base_uri": "https://localhost:8080/",
          "height": 34
        }
      },
      "cell_type": "code",
      "source": [
        "# If statement\n",
        "\n",
        "color = \"cyan\"\n",
        "hex = \"\"\n",
        "\n",
        "if color is \"cyan\":\n",
        "  hex = rgb2hex(0, 255, 255)\n",
        "elif color is \"magenta\":\n",
        "  hex = rgb2hex(255, 0, 255)\n",
        "elif color is 'yellow':\n",
        "  hex = rgb2hex(255, 255, 0)\n",
        "else:\n",
        "  hex = rgb2hex(255, 255, 255)\n",
        "\n",
        "hex"
      ],
      "execution_count": 24,
      "outputs": [
        {
          "output_type": "execute_result",
          "data": {
            "text/plain": [
              "'#00FFFF'"
            ]
          },
          "metadata": {
            "tags": []
          },
          "execution_count": 24
        }
      ]
    },
    {
      "metadata": {
        "id": "WQI49XRQbzJE",
        "colab_type": "code",
        "outputId": "7b88fe9c-9cc6-4b10-9739-dcce43a3435c",
        "colab": {
          "base_uri": "https://localhost:8080/",
          "height": 85
        }
      },
      "cell_type": "code",
      "source": [
        "# Loop through items in a list\n",
        "\n",
        "cmyk_colors = ['cyan', 'magenta', 'yellow', 'black']\n",
        "\n",
        "for color in cmyk_colors:\n",
        "  print(color)"
      ],
      "execution_count": 25,
      "outputs": [
        {
          "output_type": "stream",
          "text": [
            "cyan\n",
            "magenta\n",
            "yellow\n",
            "black\n"
          ],
          "name": "stdout"
        }
      ]
    },
    {
      "metadata": {
        "id": "SCge0WNvcGHf",
        "colab_type": "code",
        "outputId": "727c48ef-db61-4f35-e773-73acd30cad11",
        "colab": {
          "base_uri": "https://localhost:8080/",
          "height": 85
        }
      },
      "cell_type": "code",
      "source": [
        "# Loop through items in a list by index\n",
        "\n",
        "for i in range(len(cmyk_colors)):\n",
        "  print(i, cmyk_colors[i])"
      ],
      "execution_count": 26,
      "outputs": [
        {
          "output_type": "stream",
          "text": [
            "0 cyan\n",
            "1 magenta\n",
            "2 yellow\n",
            "3 black\n"
          ],
          "name": "stdout"
        }
      ]
    },
    {
      "metadata": {
        "id": "63bochL3LMgF",
        "colab_type": "code",
        "colab": {}
      },
      "cell_type": "code",
      "source": [
        "################################################################################\n",
        "# TODO:                                                                        #\n",
        "# Try to get the hex code of all the CMYK colors through using a for loop.     #\n",
        "################################################################################\n",
        "\n",
        "\n",
        "\n",
        "################################################################################\n",
        "#                                 END OF YOUR CODE                             #\n",
        "################################################################################"
      ],
      "execution_count": 0,
      "outputs": []
    },
    {
      "metadata": {
        "id": "F2hco3oSPSgm",
        "colab_type": "text"
      },
      "cell_type": "markdown",
      "source": [
        "### Files"
      ]
    },
    {
      "metadata": {
        "id": "TSfXZYYJPa9Z",
        "colab_type": "code",
        "colab": {}
      },
      "cell_type": "code",
      "source": [
        "with open('data.csv', 'w') as f:\n",
        "  f.write('color,r,g,b,hex\\n')\n",
        "  f.write('red,255,0,0,#FF0000\\n')\n",
        "  f.write('green,0,255,0,#00FF00\\n')\n",
        "  f.write('blue,0,0,255,#0000FF\\n')"
      ],
      "execution_count": 0,
      "outputs": []
    },
    {
      "metadata": {
        "id": "3jjDkuO6QHgq",
        "colab_type": "code",
        "colab": {
          "base_uri": "https://localhost:8080/",
          "height": 85
        },
        "outputId": "568fc27e-67e0-4bc5-b111-4a8c5fdbe2dd"
      },
      "cell_type": "code",
      "source": [
        "with open('data.csv', 'r') as f:\n",
        "  lines = f.readlines()\n",
        "  for line in lines:\n",
        "    print(line.split(',')[0])"
      ],
      "execution_count": 29,
      "outputs": [
        {
          "output_type": "stream",
          "text": [
            "color\n",
            "red\n",
            "green\n",
            "blue\n"
          ],
          "name": "stdout"
        }
      ]
    },
    {
      "metadata": {
        "id": "2nS-tEh1UlUE",
        "colab_type": "text"
      },
      "cell_type": "markdown",
      "source": [
        "### Date and Time"
      ]
    },
    {
      "metadata": {
        "id": "psb3AFdQd_H_",
        "colab_type": "text"
      },
      "cell_type": "markdown",
      "source": [
        "Date and time are very common in data visualization. In Python, the standard library provides rich set of tools to manipulate date and time."
      ]
    },
    {
      "metadata": {
        "id": "ticQd8GwW10c",
        "colab_type": "code",
        "colab": {}
      },
      "cell_type": "code",
      "source": [
        "# Import datetime library\n",
        "\n",
        "from datetime import datetime, timedelta"
      ],
      "execution_count": 0,
      "outputs": []
    },
    {
      "metadata": {
        "id": "-lwzUNlMei1X",
        "colab_type": "code",
        "colab": {
          "base_uri": "https://localhost:8080/",
          "height": 34
        },
        "outputId": "d6be7416-f98b-490e-cb96-da9205294b91"
      },
      "cell_type": "code",
      "source": [
        "# Get the current date and time (in UTC time)\n",
        "\n",
        "now = datetime.now()\n",
        "now"
      ],
      "execution_count": 31,
      "outputs": [
        {
          "output_type": "execute_result",
          "data": {
            "text/plain": [
              "datetime.datetime(2019, 2, 21, 10, 38, 21, 579988)"
            ]
          },
          "metadata": {
            "tags": []
          },
          "execution_count": 31
        }
      ]
    },
    {
      "metadata": {
        "id": "OA9jFfelemm3",
        "colab_type": "code",
        "colab": {
          "base_uri": "https://localhost:8080/",
          "height": 34
        },
        "outputId": "6507d163-ef2c-4f85-f835-80850cf7d254"
      },
      "cell_type": "code",
      "source": [
        "# Access properties of the datetime object\n",
        "\n",
        "now.year, now.month, now.day, now.hour, now.minute, now.second"
      ],
      "execution_count": 32,
      "outputs": [
        {
          "output_type": "execute_result",
          "data": {
            "text/plain": [
              "(2019, 2, 21, 10, 38, 21)"
            ]
          },
          "metadata": {
            "tags": []
          },
          "execution_count": 32
        }
      ]
    },
    {
      "metadata": {
        "id": "P7mXcqgle566",
        "colab_type": "code",
        "colab": {
          "base_uri": "https://localhost:8080/",
          "height": 34
        },
        "outputId": "af7d6df0-5cfb-45ad-e661-0791b746d5be"
      },
      "cell_type": "code",
      "source": [
        "# Create a datetime object with a specific date\n",
        "\n",
        "project_presentation = datetime(2019, 5, 3)\n",
        "project_presentation"
      ],
      "execution_count": 33,
      "outputs": [
        {
          "output_type": "execute_result",
          "data": {
            "text/plain": [
              "datetime.datetime(2019, 5, 3, 0, 0)"
            ]
          },
          "metadata": {
            "tags": []
          },
          "execution_count": 33
        }
      ]
    },
    {
      "metadata": {
        "id": "m0hm56BHfuqW",
        "colab_type": "code",
        "colab": {
          "base_uri": "https://localhost:8080/",
          "height": 34
        },
        "outputId": "1ff394d8-a5d1-4291-c8ef-4ff5078065bb"
      },
      "cell_type": "code",
      "source": [
        "# Add two days to a datetime object\n",
        "\n",
        "project_presentation + timedelta(days=5)"
      ],
      "execution_count": 34,
      "outputs": [
        {
          "output_type": "execute_result",
          "data": {
            "text/plain": [
              "datetime.datetime(2019, 5, 8, 0, 0)"
            ]
          },
          "metadata": {
            "tags": []
          },
          "execution_count": 34
        }
      ]
    },
    {
      "metadata": {
        "id": "-T_PBn2_joSJ",
        "colab_type": "code",
        "colab": {}
      },
      "cell_type": "code",
      "source": [
        "################################################################################\n",
        "# TODO:                                                                        #\n",
        "# Try to create a datetime object with date 27th March, 2019!                  #\n",
        "# Then add two days to it.                                                     #\n",
        "################################################################################\n",
        "\n",
        "\n",
        "\n",
        "################################################################################\n",
        "#                                 END OF YOUR CODE                             #\n",
        "################################################################################"
      ],
      "execution_count": 0,
      "outputs": []
    },
    {
      "metadata": {
        "id": "ehZS-giJNFo1",
        "colab_type": "text"
      },
      "cell_type": "markdown",
      "source": [
        "## Pandas Basics"
      ]
    },
    {
      "metadata": {
        "id": "ELejbLsVhztI",
        "colab_type": "text"
      },
      "cell_type": "markdown",
      "source": [
        "### Upload dataset"
      ]
    },
    {
      "metadata": {
        "id": "02vfBj4zh3e4",
        "colab_type": "text"
      },
      "cell_type": "markdown",
      "source": [
        "If you are using Google Colab, you should be able to see an arrow on the left edge of the window, it hides the panel. Open it and switch to the \"Files\" tab, you can see the files in the current directory. Click upload and upload the Pokemon dataset you have downloaded from [GitHub](https://github.com/leoyuholo/learning-vis-tools/tree/master/tutorial04/lab3)."
      ]
    },
    {
      "metadata": {
        "id": "e4HPIeG1gSvy",
        "colab_type": "code",
        "colab": {}
      },
      "cell_type": "code",
      "source": [
        "# Import pandas, and assign it to its common alias 'pd'\n",
        "\n",
        "import pandas as pd"
      ],
      "execution_count": 0,
      "outputs": []
    },
    {
      "metadata": {
        "id": "LK-RDdY9gezN",
        "colab_type": "code",
        "colab": {}
      },
      "cell_type": "code",
      "source": [
        "df_pokemon = pd.read_csv('pokemon.csv')"
      ],
      "execution_count": 0,
      "outputs": []
    },
    {
      "metadata": {
        "id": "QtV85dP7goeD",
        "colab_type": "code",
        "colab": {
          "base_uri": "https://localhost:8080/",
          "height": 1969
        },
        "outputId": "77d61f3e-26a1-4017-b6ad-c5825c820e07"
      },
      "cell_type": "code",
      "source": [
        "df_pokemon"
      ],
      "execution_count": 38,
      "outputs": [
        {
          "output_type": "execute_result",
          "data": {
            "text/html": [
              "<div>\n",
              "<style scoped>\n",
              "    .dataframe tbody tr th:only-of-type {\n",
              "        vertical-align: middle;\n",
              "    }\n",
              "\n",
              "    .dataframe tbody tr th {\n",
              "        vertical-align: top;\n",
              "    }\n",
              "\n",
              "    .dataframe thead th {\n",
              "        text-align: right;\n",
              "    }\n",
              "</style>\n",
              "<table border=\"1\" class=\"dataframe\">\n",
              "  <thead>\n",
              "    <tr style=\"text-align: right;\">\n",
              "      <th></th>\n",
              "      <th>pokedex_number</th>\n",
              "      <th>name</th>\n",
              "      <th>japanese_name</th>\n",
              "      <th>base_total</th>\n",
              "      <th>attack</th>\n",
              "      <th>defense</th>\n",
              "      <th>sp_attack</th>\n",
              "      <th>sp_defense</th>\n",
              "      <th>speed</th>\n",
              "      <th>hp</th>\n",
              "      <th>capture_rate</th>\n",
              "    </tr>\n",
              "  </thead>\n",
              "  <tbody>\n",
              "    <tr>\n",
              "      <th>0</th>\n",
              "      <td>1</td>\n",
              "      <td>Bulbasaur</td>\n",
              "      <td>Fushigidaneフシギダネ</td>\n",
              "      <td>318</td>\n",
              "      <td>49</td>\n",
              "      <td>49</td>\n",
              "      <td>65</td>\n",
              "      <td>65</td>\n",
              "      <td>45</td>\n",
              "      <td>45</td>\n",
              "      <td>45</td>\n",
              "    </tr>\n",
              "    <tr>\n",
              "      <th>1</th>\n",
              "      <td>2</td>\n",
              "      <td>Ivysaur</td>\n",
              "      <td>Fushigisouフシギソウ</td>\n",
              "      <td>405</td>\n",
              "      <td>62</td>\n",
              "      <td>63</td>\n",
              "      <td>80</td>\n",
              "      <td>80</td>\n",
              "      <td>60</td>\n",
              "      <td>60</td>\n",
              "      <td>45</td>\n",
              "    </tr>\n",
              "    <tr>\n",
              "      <th>2</th>\n",
              "      <td>3</td>\n",
              "      <td>Venusaur</td>\n",
              "      <td>Fushigibanaフシギバナ</td>\n",
              "      <td>625</td>\n",
              "      <td>100</td>\n",
              "      <td>123</td>\n",
              "      <td>122</td>\n",
              "      <td>120</td>\n",
              "      <td>80</td>\n",
              "      <td>80</td>\n",
              "      <td>45</td>\n",
              "    </tr>\n",
              "    <tr>\n",
              "      <th>3</th>\n",
              "      <td>4</td>\n",
              "      <td>Charmander</td>\n",
              "      <td>Hitokageヒトカゲ</td>\n",
              "      <td>309</td>\n",
              "      <td>52</td>\n",
              "      <td>43</td>\n",
              "      <td>60</td>\n",
              "      <td>50</td>\n",
              "      <td>65</td>\n",
              "      <td>39</td>\n",
              "      <td>45</td>\n",
              "    </tr>\n",
              "    <tr>\n",
              "      <th>4</th>\n",
              "      <td>5</td>\n",
              "      <td>Charmeleon</td>\n",
              "      <td>Lizardoリザード</td>\n",
              "      <td>405</td>\n",
              "      <td>64</td>\n",
              "      <td>58</td>\n",
              "      <td>80</td>\n",
              "      <td>65</td>\n",
              "      <td>80</td>\n",
              "      <td>58</td>\n",
              "      <td>45</td>\n",
              "    </tr>\n",
              "    <tr>\n",
              "      <th>5</th>\n",
              "      <td>6</td>\n",
              "      <td>Charizard</td>\n",
              "      <td>Lizardonリザードン</td>\n",
              "      <td>634</td>\n",
              "      <td>104</td>\n",
              "      <td>78</td>\n",
              "      <td>159</td>\n",
              "      <td>115</td>\n",
              "      <td>100</td>\n",
              "      <td>78</td>\n",
              "      <td>45</td>\n",
              "    </tr>\n",
              "    <tr>\n",
              "      <th>6</th>\n",
              "      <td>7</td>\n",
              "      <td>Squirtle</td>\n",
              "      <td>Zenigameゼニガメ</td>\n",
              "      <td>314</td>\n",
              "      <td>48</td>\n",
              "      <td>65</td>\n",
              "      <td>50</td>\n",
              "      <td>64</td>\n",
              "      <td>43</td>\n",
              "      <td>44</td>\n",
              "      <td>45</td>\n",
              "    </tr>\n",
              "    <tr>\n",
              "      <th>7</th>\n",
              "      <td>8</td>\n",
              "      <td>Wartortle</td>\n",
              "      <td>Kameilカメール</td>\n",
              "      <td>405</td>\n",
              "      <td>63</td>\n",
              "      <td>80</td>\n",
              "      <td>65</td>\n",
              "      <td>80</td>\n",
              "      <td>58</td>\n",
              "      <td>59</td>\n",
              "      <td>45</td>\n",
              "    </tr>\n",
              "    <tr>\n",
              "      <th>8</th>\n",
              "      <td>9</td>\n",
              "      <td>Blastoise</td>\n",
              "      <td>Kamexカメックス</td>\n",
              "      <td>630</td>\n",
              "      <td>103</td>\n",
              "      <td>120</td>\n",
              "      <td>135</td>\n",
              "      <td>115</td>\n",
              "      <td>78</td>\n",
              "      <td>79</td>\n",
              "      <td>45</td>\n",
              "    </tr>\n",
              "    <tr>\n",
              "      <th>9</th>\n",
              "      <td>10</td>\n",
              "      <td>Caterpie</td>\n",
              "      <td>Caterpieキャタピー</td>\n",
              "      <td>195</td>\n",
              "      <td>30</td>\n",
              "      <td>35</td>\n",
              "      <td>20</td>\n",
              "      <td>20</td>\n",
              "      <td>45</td>\n",
              "      <td>45</td>\n",
              "      <td>255</td>\n",
              "    </tr>\n",
              "    <tr>\n",
              "      <th>10</th>\n",
              "      <td>11</td>\n",
              "      <td>Metapod</td>\n",
              "      <td>Transelトランセル</td>\n",
              "      <td>205</td>\n",
              "      <td>20</td>\n",
              "      <td>55</td>\n",
              "      <td>25</td>\n",
              "      <td>25</td>\n",
              "      <td>30</td>\n",
              "      <td>50</td>\n",
              "      <td>120</td>\n",
              "    </tr>\n",
              "    <tr>\n",
              "      <th>11</th>\n",
              "      <td>12</td>\n",
              "      <td>Butterfree</td>\n",
              "      <td>Butterfreeバタフリー</td>\n",
              "      <td>395</td>\n",
              "      <td>45</td>\n",
              "      <td>50</td>\n",
              "      <td>90</td>\n",
              "      <td>80</td>\n",
              "      <td>70</td>\n",
              "      <td>60</td>\n",
              "      <td>45</td>\n",
              "    </tr>\n",
              "    <tr>\n",
              "      <th>12</th>\n",
              "      <td>13</td>\n",
              "      <td>Weedle</td>\n",
              "      <td>Beedleビードル</td>\n",
              "      <td>195</td>\n",
              "      <td>35</td>\n",
              "      <td>30</td>\n",
              "      <td>20</td>\n",
              "      <td>20</td>\n",
              "      <td>50</td>\n",
              "      <td>40</td>\n",
              "      <td>255</td>\n",
              "    </tr>\n",
              "    <tr>\n",
              "      <th>13</th>\n",
              "      <td>14</td>\n",
              "      <td>Kakuna</td>\n",
              "      <td>Cocoonコクーン</td>\n",
              "      <td>205</td>\n",
              "      <td>25</td>\n",
              "      <td>50</td>\n",
              "      <td>25</td>\n",
              "      <td>25</td>\n",
              "      <td>35</td>\n",
              "      <td>45</td>\n",
              "      <td>120</td>\n",
              "    </tr>\n",
              "    <tr>\n",
              "      <th>14</th>\n",
              "      <td>15</td>\n",
              "      <td>Beedrill</td>\n",
              "      <td>Spearスピアー</td>\n",
              "      <td>495</td>\n",
              "      <td>150</td>\n",
              "      <td>40</td>\n",
              "      <td>15</td>\n",
              "      <td>80</td>\n",
              "      <td>145</td>\n",
              "      <td>65</td>\n",
              "      <td>45</td>\n",
              "    </tr>\n",
              "    <tr>\n",
              "      <th>15</th>\n",
              "      <td>16</td>\n",
              "      <td>Pidgey</td>\n",
              "      <td>Poppoポッポ</td>\n",
              "      <td>251</td>\n",
              "      <td>45</td>\n",
              "      <td>40</td>\n",
              "      <td>35</td>\n",
              "      <td>35</td>\n",
              "      <td>56</td>\n",
              "      <td>40</td>\n",
              "      <td>255</td>\n",
              "    </tr>\n",
              "    <tr>\n",
              "      <th>16</th>\n",
              "      <td>17</td>\n",
              "      <td>Pidgeotto</td>\n",
              "      <td>Pigeonピジョン</td>\n",
              "      <td>349</td>\n",
              "      <td>60</td>\n",
              "      <td>55</td>\n",
              "      <td>50</td>\n",
              "      <td>50</td>\n",
              "      <td>71</td>\n",
              "      <td>63</td>\n",
              "      <td>120</td>\n",
              "    </tr>\n",
              "    <tr>\n",
              "      <th>17</th>\n",
              "      <td>18</td>\n",
              "      <td>Pidgeot</td>\n",
              "      <td>Pigeotピジョット</td>\n",
              "      <td>579</td>\n",
              "      <td>80</td>\n",
              "      <td>80</td>\n",
              "      <td>135</td>\n",
              "      <td>80</td>\n",
              "      <td>121</td>\n",
              "      <td>83</td>\n",
              "      <td>45</td>\n",
              "    </tr>\n",
              "    <tr>\n",
              "      <th>18</th>\n",
              "      <td>19</td>\n",
              "      <td>Rattata</td>\n",
              "      <td>Korattaコラッタ</td>\n",
              "      <td>253</td>\n",
              "      <td>56</td>\n",
              "      <td>35</td>\n",
              "      <td>25</td>\n",
              "      <td>35</td>\n",
              "      <td>72</td>\n",
              "      <td>30</td>\n",
              "      <td>255</td>\n",
              "    </tr>\n",
              "    <tr>\n",
              "      <th>19</th>\n",
              "      <td>20</td>\n",
              "      <td>Raticate</td>\n",
              "      <td>Rattaラッタ</td>\n",
              "      <td>413</td>\n",
              "      <td>71</td>\n",
              "      <td>70</td>\n",
              "      <td>40</td>\n",
              "      <td>80</td>\n",
              "      <td>77</td>\n",
              "      <td>75</td>\n",
              "      <td>127</td>\n",
              "    </tr>\n",
              "    <tr>\n",
              "      <th>20</th>\n",
              "      <td>21</td>\n",
              "      <td>Spearow</td>\n",
              "      <td>Onisuzumeオニスズメ</td>\n",
              "      <td>262</td>\n",
              "      <td>60</td>\n",
              "      <td>30</td>\n",
              "      <td>31</td>\n",
              "      <td>31</td>\n",
              "      <td>70</td>\n",
              "      <td>40</td>\n",
              "      <td>255</td>\n",
              "    </tr>\n",
              "    <tr>\n",
              "      <th>21</th>\n",
              "      <td>22</td>\n",
              "      <td>Fearow</td>\n",
              "      <td>Onidrillオニドリル</td>\n",
              "      <td>442</td>\n",
              "      <td>90</td>\n",
              "      <td>65</td>\n",
              "      <td>61</td>\n",
              "      <td>61</td>\n",
              "      <td>100</td>\n",
              "      <td>65</td>\n",
              "      <td>90</td>\n",
              "    </tr>\n",
              "    <tr>\n",
              "      <th>22</th>\n",
              "      <td>23</td>\n",
              "      <td>Ekans</td>\n",
              "      <td>Arboアーボ</td>\n",
              "      <td>288</td>\n",
              "      <td>60</td>\n",
              "      <td>44</td>\n",
              "      <td>40</td>\n",
              "      <td>54</td>\n",
              "      <td>55</td>\n",
              "      <td>35</td>\n",
              "      <td>255</td>\n",
              "    </tr>\n",
              "    <tr>\n",
              "      <th>23</th>\n",
              "      <td>24</td>\n",
              "      <td>Arbok</td>\n",
              "      <td>Arbokアーボック</td>\n",
              "      <td>448</td>\n",
              "      <td>95</td>\n",
              "      <td>69</td>\n",
              "      <td>65</td>\n",
              "      <td>79</td>\n",
              "      <td>80</td>\n",
              "      <td>60</td>\n",
              "      <td>90</td>\n",
              "    </tr>\n",
              "    <tr>\n",
              "      <th>24</th>\n",
              "      <td>25</td>\n",
              "      <td>Pikachu</td>\n",
              "      <td>Pikachuピカチュウ</td>\n",
              "      <td>320</td>\n",
              "      <td>55</td>\n",
              "      <td>40</td>\n",
              "      <td>50</td>\n",
              "      <td>50</td>\n",
              "      <td>90</td>\n",
              "      <td>35</td>\n",
              "      <td>190</td>\n",
              "    </tr>\n",
              "    <tr>\n",
              "      <th>25</th>\n",
              "      <td>26</td>\n",
              "      <td>Raichu</td>\n",
              "      <td>Raichuライチュウ</td>\n",
              "      <td>485</td>\n",
              "      <td>85</td>\n",
              "      <td>50</td>\n",
              "      <td>95</td>\n",
              "      <td>85</td>\n",
              "      <td>110</td>\n",
              "      <td>60</td>\n",
              "      <td>75</td>\n",
              "    </tr>\n",
              "    <tr>\n",
              "      <th>26</th>\n",
              "      <td>27</td>\n",
              "      <td>Sandshrew</td>\n",
              "      <td>Sandサンド</td>\n",
              "      <td>300</td>\n",
              "      <td>75</td>\n",
              "      <td>90</td>\n",
              "      <td>10</td>\n",
              "      <td>35</td>\n",
              "      <td>40</td>\n",
              "      <td>50</td>\n",
              "      <td>255</td>\n",
              "    </tr>\n",
              "    <tr>\n",
              "      <th>27</th>\n",
              "      <td>28</td>\n",
              "      <td>Sandslash</td>\n",
              "      <td>Sandpanサンドパン</td>\n",
              "      <td>450</td>\n",
              "      <td>100</td>\n",
              "      <td>120</td>\n",
              "      <td>25</td>\n",
              "      <td>65</td>\n",
              "      <td>65</td>\n",
              "      <td>75</td>\n",
              "      <td>90</td>\n",
              "    </tr>\n",
              "    <tr>\n",
              "      <th>28</th>\n",
              "      <td>29</td>\n",
              "      <td>Nidoran♀</td>\n",
              "      <td>Nidoran?ニドラン♀</td>\n",
              "      <td>275</td>\n",
              "      <td>47</td>\n",
              "      <td>52</td>\n",
              "      <td>40</td>\n",
              "      <td>40</td>\n",
              "      <td>41</td>\n",
              "      <td>55</td>\n",
              "      <td>235</td>\n",
              "    </tr>\n",
              "    <tr>\n",
              "      <th>29</th>\n",
              "      <td>30</td>\n",
              "      <td>Nidorina</td>\n",
              "      <td>Nidorinaニドリーナ</td>\n",
              "      <td>365</td>\n",
              "      <td>62</td>\n",
              "      <td>67</td>\n",
              "      <td>55</td>\n",
              "      <td>55</td>\n",
              "      <td>56</td>\n",
              "      <td>70</td>\n",
              "      <td>120</td>\n",
              "    </tr>\n",
              "    <tr>\n",
              "      <th>...</th>\n",
              "      <td>...</td>\n",
              "      <td>...</td>\n",
              "      <td>...</td>\n",
              "      <td>...</td>\n",
              "      <td>...</td>\n",
              "      <td>...</td>\n",
              "      <td>...</td>\n",
              "      <td>...</td>\n",
              "      <td>...</td>\n",
              "      <td>...</td>\n",
              "      <td>...</td>\n",
              "    </tr>\n",
              "    <tr>\n",
              "      <th>771</th>\n",
              "      <td>772</td>\n",
              "      <td>Type: Null</td>\n",
              "      <td>Type: Nullタイプ：ヌル</td>\n",
              "      <td>534</td>\n",
              "      <td>95</td>\n",
              "      <td>95</td>\n",
              "      <td>95</td>\n",
              "      <td>95</td>\n",
              "      <td>59</td>\n",
              "      <td>95</td>\n",
              "      <td>3</td>\n",
              "    </tr>\n",
              "    <tr>\n",
              "      <th>772</th>\n",
              "      <td>773</td>\n",
              "      <td>Silvally</td>\n",
              "      <td>Silvadyシルヴァディ</td>\n",
              "      <td>570</td>\n",
              "      <td>95</td>\n",
              "      <td>95</td>\n",
              "      <td>95</td>\n",
              "      <td>95</td>\n",
              "      <td>95</td>\n",
              "      <td>95</td>\n",
              "      <td>3</td>\n",
              "    </tr>\n",
              "    <tr>\n",
              "      <th>773</th>\n",
              "      <td>774</td>\n",
              "      <td>Minior</td>\n",
              "      <td>Metenoメテノ</td>\n",
              "      <td>500</td>\n",
              "      <td>100</td>\n",
              "      <td>60</td>\n",
              "      <td>100</td>\n",
              "      <td>60</td>\n",
              "      <td>120</td>\n",
              "      <td>60</td>\n",
              "      <td>30</td>\n",
              "    </tr>\n",
              "    <tr>\n",
              "      <th>774</th>\n",
              "      <td>775</td>\n",
              "      <td>Komala</td>\n",
              "      <td>Nekkoaraネッコアラ</td>\n",
              "      <td>480</td>\n",
              "      <td>115</td>\n",
              "      <td>65</td>\n",
              "      <td>75</td>\n",
              "      <td>95</td>\n",
              "      <td>65</td>\n",
              "      <td>65</td>\n",
              "      <td>45</td>\n",
              "    </tr>\n",
              "    <tr>\n",
              "      <th>775</th>\n",
              "      <td>776</td>\n",
              "      <td>Turtonator</td>\n",
              "      <td>Bakugamesバクガメス</td>\n",
              "      <td>485</td>\n",
              "      <td>78</td>\n",
              "      <td>135</td>\n",
              "      <td>91</td>\n",
              "      <td>85</td>\n",
              "      <td>36</td>\n",
              "      <td>60</td>\n",
              "      <td>70</td>\n",
              "    </tr>\n",
              "    <tr>\n",
              "      <th>776</th>\n",
              "      <td>777</td>\n",
              "      <td>Togedemaru</td>\n",
              "      <td>Togedemaruトゲデマル</td>\n",
              "      <td>435</td>\n",
              "      <td>98</td>\n",
              "      <td>63</td>\n",
              "      <td>40</td>\n",
              "      <td>73</td>\n",
              "      <td>96</td>\n",
              "      <td>65</td>\n",
              "      <td>180</td>\n",
              "    </tr>\n",
              "    <tr>\n",
              "      <th>777</th>\n",
              "      <td>778</td>\n",
              "      <td>Mimikyu</td>\n",
              "      <td>Mimikkyuミミッキュ</td>\n",
              "      <td>476</td>\n",
              "      <td>90</td>\n",
              "      <td>80</td>\n",
              "      <td>50</td>\n",
              "      <td>105</td>\n",
              "      <td>96</td>\n",
              "      <td>55</td>\n",
              "      <td>45</td>\n",
              "    </tr>\n",
              "    <tr>\n",
              "      <th>778</th>\n",
              "      <td>779</td>\n",
              "      <td>Bruxish</td>\n",
              "      <td>Hagigishiriハギギシリ</td>\n",
              "      <td>475</td>\n",
              "      <td>105</td>\n",
              "      <td>70</td>\n",
              "      <td>70</td>\n",
              "      <td>70</td>\n",
              "      <td>92</td>\n",
              "      <td>68</td>\n",
              "      <td>80</td>\n",
              "    </tr>\n",
              "    <tr>\n",
              "      <th>779</th>\n",
              "      <td>780</td>\n",
              "      <td>Drampa</td>\n",
              "      <td>Jijilongジジーロン</td>\n",
              "      <td>485</td>\n",
              "      <td>60</td>\n",
              "      <td>85</td>\n",
              "      <td>135</td>\n",
              "      <td>91</td>\n",
              "      <td>36</td>\n",
              "      <td>78</td>\n",
              "      <td>70</td>\n",
              "    </tr>\n",
              "    <tr>\n",
              "      <th>780</th>\n",
              "      <td>781</td>\n",
              "      <td>Dhelmise</td>\n",
              "      <td>Dadarinダダリン</td>\n",
              "      <td>517</td>\n",
              "      <td>131</td>\n",
              "      <td>100</td>\n",
              "      <td>86</td>\n",
              "      <td>90</td>\n",
              "      <td>40</td>\n",
              "      <td>70</td>\n",
              "      <td>25</td>\n",
              "    </tr>\n",
              "    <tr>\n",
              "      <th>781</th>\n",
              "      <td>782</td>\n",
              "      <td>Jangmo-o</td>\n",
              "      <td>Jyarakoジャラコ</td>\n",
              "      <td>300</td>\n",
              "      <td>55</td>\n",
              "      <td>65</td>\n",
              "      <td>45</td>\n",
              "      <td>45</td>\n",
              "      <td>45</td>\n",
              "      <td>45</td>\n",
              "      <td>45</td>\n",
              "    </tr>\n",
              "    <tr>\n",
              "      <th>782</th>\n",
              "      <td>783</td>\n",
              "      <td>Hakamo-o</td>\n",
              "      <td>Jyarangoジャランゴ</td>\n",
              "      <td>420</td>\n",
              "      <td>75</td>\n",
              "      <td>90</td>\n",
              "      <td>65</td>\n",
              "      <td>70</td>\n",
              "      <td>65</td>\n",
              "      <td>55</td>\n",
              "      <td>45</td>\n",
              "    </tr>\n",
              "    <tr>\n",
              "      <th>783</th>\n",
              "      <td>784</td>\n",
              "      <td>Kommo-o</td>\n",
              "      <td>Jyararangaジャラランガ</td>\n",
              "      <td>600</td>\n",
              "      <td>110</td>\n",
              "      <td>125</td>\n",
              "      <td>100</td>\n",
              "      <td>105</td>\n",
              "      <td>85</td>\n",
              "      <td>75</td>\n",
              "      <td>45</td>\n",
              "    </tr>\n",
              "    <tr>\n",
              "      <th>784</th>\n",
              "      <td>785</td>\n",
              "      <td>Tapu Koko</td>\n",
              "      <td>Kapu-kokekoカプ・コケコ</td>\n",
              "      <td>570</td>\n",
              "      <td>115</td>\n",
              "      <td>85</td>\n",
              "      <td>95</td>\n",
              "      <td>75</td>\n",
              "      <td>130</td>\n",
              "      <td>70</td>\n",
              "      <td>3</td>\n",
              "    </tr>\n",
              "    <tr>\n",
              "      <th>785</th>\n",
              "      <td>786</td>\n",
              "      <td>Tapu Lele</td>\n",
              "      <td>Kapu-tetefuカプ・テテフ</td>\n",
              "      <td>570</td>\n",
              "      <td>85</td>\n",
              "      <td>75</td>\n",
              "      <td>130</td>\n",
              "      <td>115</td>\n",
              "      <td>95</td>\n",
              "      <td>70</td>\n",
              "      <td>3</td>\n",
              "    </tr>\n",
              "    <tr>\n",
              "      <th>786</th>\n",
              "      <td>787</td>\n",
              "      <td>Tapu Bulu</td>\n",
              "      <td>Kapu-bululカプ・ブルル</td>\n",
              "      <td>570</td>\n",
              "      <td>130</td>\n",
              "      <td>115</td>\n",
              "      <td>85</td>\n",
              "      <td>95</td>\n",
              "      <td>75</td>\n",
              "      <td>70</td>\n",
              "      <td>3</td>\n",
              "    </tr>\n",
              "    <tr>\n",
              "      <th>787</th>\n",
              "      <td>788</td>\n",
              "      <td>Tapu Fini</td>\n",
              "      <td>Kapu-rehireカプ・レヒレ</td>\n",
              "      <td>570</td>\n",
              "      <td>75</td>\n",
              "      <td>115</td>\n",
              "      <td>95</td>\n",
              "      <td>130</td>\n",
              "      <td>85</td>\n",
              "      <td>70</td>\n",
              "      <td>3</td>\n",
              "    </tr>\n",
              "    <tr>\n",
              "      <th>788</th>\n",
              "      <td>789</td>\n",
              "      <td>Cosmog</td>\n",
              "      <td>Cosmogコスモッグ</td>\n",
              "      <td>200</td>\n",
              "      <td>29</td>\n",
              "      <td>31</td>\n",
              "      <td>29</td>\n",
              "      <td>31</td>\n",
              "      <td>37</td>\n",
              "      <td>43</td>\n",
              "      <td>45</td>\n",
              "    </tr>\n",
              "    <tr>\n",
              "      <th>789</th>\n",
              "      <td>790</td>\n",
              "      <td>Cosmoem</td>\n",
              "      <td>Cosmovumコスモウム</td>\n",
              "      <td>400</td>\n",
              "      <td>29</td>\n",
              "      <td>131</td>\n",
              "      <td>29</td>\n",
              "      <td>131</td>\n",
              "      <td>37</td>\n",
              "      <td>43</td>\n",
              "      <td>45</td>\n",
              "    </tr>\n",
              "    <tr>\n",
              "      <th>790</th>\n",
              "      <td>791</td>\n",
              "      <td>Solgaleo</td>\n",
              "      <td>Solgaleoソルガレオ</td>\n",
              "      <td>680</td>\n",
              "      <td>137</td>\n",
              "      <td>107</td>\n",
              "      <td>113</td>\n",
              "      <td>89</td>\n",
              "      <td>97</td>\n",
              "      <td>137</td>\n",
              "      <td>45</td>\n",
              "    </tr>\n",
              "    <tr>\n",
              "      <th>791</th>\n",
              "      <td>792</td>\n",
              "      <td>Lunala</td>\n",
              "      <td>Lunalaルナアーラ</td>\n",
              "      <td>680</td>\n",
              "      <td>113</td>\n",
              "      <td>89</td>\n",
              "      <td>137</td>\n",
              "      <td>107</td>\n",
              "      <td>97</td>\n",
              "      <td>137</td>\n",
              "      <td>45</td>\n",
              "    </tr>\n",
              "    <tr>\n",
              "      <th>792</th>\n",
              "      <td>793</td>\n",
              "      <td>Nihilego</td>\n",
              "      <td>Uturoidウツロイド</td>\n",
              "      <td>570</td>\n",
              "      <td>53</td>\n",
              "      <td>47</td>\n",
              "      <td>127</td>\n",
              "      <td>131</td>\n",
              "      <td>103</td>\n",
              "      <td>109</td>\n",
              "      <td>45</td>\n",
              "    </tr>\n",
              "    <tr>\n",
              "      <th>793</th>\n",
              "      <td>794</td>\n",
              "      <td>Buzzwole</td>\n",
              "      <td>Massivoonマッシブーン</td>\n",
              "      <td>570</td>\n",
              "      <td>139</td>\n",
              "      <td>139</td>\n",
              "      <td>53</td>\n",
              "      <td>53</td>\n",
              "      <td>79</td>\n",
              "      <td>107</td>\n",
              "      <td>25</td>\n",
              "    </tr>\n",
              "    <tr>\n",
              "      <th>794</th>\n",
              "      <td>795</td>\n",
              "      <td>Pheromosa</td>\n",
              "      <td>Pheroacheフェローチェ</td>\n",
              "      <td>570</td>\n",
              "      <td>137</td>\n",
              "      <td>37</td>\n",
              "      <td>137</td>\n",
              "      <td>37</td>\n",
              "      <td>151</td>\n",
              "      <td>71</td>\n",
              "      <td>255</td>\n",
              "    </tr>\n",
              "    <tr>\n",
              "      <th>795</th>\n",
              "      <td>796</td>\n",
              "      <td>Xurkitree</td>\n",
              "      <td>Denjyumokuデンジュモク</td>\n",
              "      <td>570</td>\n",
              "      <td>89</td>\n",
              "      <td>71</td>\n",
              "      <td>173</td>\n",
              "      <td>71</td>\n",
              "      <td>83</td>\n",
              "      <td>83</td>\n",
              "      <td>30</td>\n",
              "    </tr>\n",
              "    <tr>\n",
              "      <th>796</th>\n",
              "      <td>797</td>\n",
              "      <td>Celesteela</td>\n",
              "      <td>Tekkaguyaテッカグヤ</td>\n",
              "      <td>570</td>\n",
              "      <td>101</td>\n",
              "      <td>103</td>\n",
              "      <td>107</td>\n",
              "      <td>101</td>\n",
              "      <td>61</td>\n",
              "      <td>97</td>\n",
              "      <td>25</td>\n",
              "    </tr>\n",
              "    <tr>\n",
              "      <th>797</th>\n",
              "      <td>798</td>\n",
              "      <td>Kartana</td>\n",
              "      <td>Kamiturugiカミツルギ</td>\n",
              "      <td>570</td>\n",
              "      <td>181</td>\n",
              "      <td>131</td>\n",
              "      <td>59</td>\n",
              "      <td>31</td>\n",
              "      <td>109</td>\n",
              "      <td>59</td>\n",
              "      <td>255</td>\n",
              "    </tr>\n",
              "    <tr>\n",
              "      <th>798</th>\n",
              "      <td>799</td>\n",
              "      <td>Guzzlord</td>\n",
              "      <td>Akuzikingアクジキング</td>\n",
              "      <td>570</td>\n",
              "      <td>101</td>\n",
              "      <td>53</td>\n",
              "      <td>97</td>\n",
              "      <td>53</td>\n",
              "      <td>43</td>\n",
              "      <td>223</td>\n",
              "      <td>15</td>\n",
              "    </tr>\n",
              "    <tr>\n",
              "      <th>799</th>\n",
              "      <td>800</td>\n",
              "      <td>Necrozma</td>\n",
              "      <td>Necrozmaネクロズマ</td>\n",
              "      <td>600</td>\n",
              "      <td>107</td>\n",
              "      <td>101</td>\n",
              "      <td>127</td>\n",
              "      <td>89</td>\n",
              "      <td>79</td>\n",
              "      <td>97</td>\n",
              "      <td>3</td>\n",
              "    </tr>\n",
              "    <tr>\n",
              "      <th>800</th>\n",
              "      <td>801</td>\n",
              "      <td>Magearna</td>\n",
              "      <td>Magearnaマギアナ</td>\n",
              "      <td>600</td>\n",
              "      <td>95</td>\n",
              "      <td>115</td>\n",
              "      <td>130</td>\n",
              "      <td>115</td>\n",
              "      <td>65</td>\n",
              "      <td>80</td>\n",
              "      <td>3</td>\n",
              "    </tr>\n",
              "  </tbody>\n",
              "</table>\n",
              "<p>801 rows × 11 columns</p>\n",
              "</div>"
            ],
            "text/plain": [
              "     pokedex_number        name      japanese_name  base_total  attack  \\\n",
              "0                 1   Bulbasaur   Fushigidaneフシギダネ         318      49   \n",
              "1                 2     Ivysaur    Fushigisouフシギソウ         405      62   \n",
              "2                 3    Venusaur   Fushigibanaフシギバナ         625     100   \n",
              "3                 4  Charmander       Hitokageヒトカゲ         309      52   \n",
              "4                 5  Charmeleon        Lizardoリザード         405      64   \n",
              "5                 6   Charizard      Lizardonリザードン         634     104   \n",
              "6                 7    Squirtle       Zenigameゼニガメ         314      48   \n",
              "7                 8   Wartortle         Kameilカメール         405      63   \n",
              "8                 9   Blastoise         Kamexカメックス         630     103   \n",
              "9                10    Caterpie      Caterpieキャタピー         195      30   \n",
              "10               11     Metapod       Transelトランセル         205      20   \n",
              "11               12  Butterfree    Butterfreeバタフリー         395      45   \n",
              "12               13      Weedle         Beedleビードル         195      35   \n",
              "13               14      Kakuna         Cocoonコクーン         205      25   \n",
              "14               15    Beedrill          Spearスピアー         495     150   \n",
              "15               16      Pidgey           Poppoポッポ         251      45   \n",
              "16               17   Pidgeotto         Pigeonピジョン         349      60   \n",
              "17               18     Pidgeot        Pigeotピジョット         579      80   \n",
              "18               19     Rattata        Korattaコラッタ         253      56   \n",
              "19               20    Raticate           Rattaラッタ         413      71   \n",
              "20               21     Spearow     Onisuzumeオニスズメ         262      60   \n",
              "21               22      Fearow      Onidrillオニドリル         442      90   \n",
              "22               23       Ekans            Arboアーボ         288      60   \n",
              "23               24       Arbok         Arbokアーボック         448      95   \n",
              "24               25     Pikachu       Pikachuピカチュウ         320      55   \n",
              "25               26      Raichu        Raichuライチュウ         485      85   \n",
              "26               27   Sandshrew            Sandサンド         300      75   \n",
              "27               28   Sandslash       Sandpanサンドパン         450     100   \n",
              "28               29    Nidoran♀      Nidoran?ニドラン♀         275      47   \n",
              "29               30    Nidorina      Nidorinaニドリーナ         365      62   \n",
              "..              ...         ...                ...         ...     ...   \n",
              "771             772  Type: Null   Type: Nullタイプ：ヌル         534      95   \n",
              "772             773    Silvally      Silvadyシルヴァディ         570      95   \n",
              "773             774      Minior          Metenoメテノ         500     100   \n",
              "774             775      Komala      Nekkoaraネッコアラ         480     115   \n",
              "775             776  Turtonator     Bakugamesバクガメス         485      78   \n",
              "776             777  Togedemaru    Togedemaruトゲデマル         435      98   \n",
              "777             778     Mimikyu      Mimikkyuミミッキュ         476      90   \n",
              "778             779     Bruxish   Hagigishiriハギギシリ         475     105   \n",
              "779             780      Drampa      Jijilongジジーロン         485      60   \n",
              "780             781    Dhelmise        Dadarinダダリン         517     131   \n",
              "781             782    Jangmo-o        Jyarakoジャラコ         300      55   \n",
              "782             783    Hakamo-o      Jyarangoジャランゴ         420      75   \n",
              "783             784     Kommo-o   Jyararangaジャラランガ         600     110   \n",
              "784             785   Tapu Koko  Kapu-kokekoカプ・コケコ         570     115   \n",
              "785             786   Tapu Lele  Kapu-tetefuカプ・テテフ         570      85   \n",
              "786             787   Tapu Bulu   Kapu-bululカプ・ブルル         570     130   \n",
              "787             788   Tapu Fini  Kapu-rehireカプ・レヒレ         570      75   \n",
              "788             789      Cosmog        Cosmogコスモッグ         200      29   \n",
              "789             790     Cosmoem      Cosmovumコスモウム         400      29   \n",
              "790             791    Solgaleo      Solgaleoソルガレオ         680     137   \n",
              "791             792      Lunala        Lunalaルナアーラ         680     113   \n",
              "792             793    Nihilego       Uturoidウツロイド         570      53   \n",
              "793             794    Buzzwole    Massivoonマッシブーン         570     139   \n",
              "794             795   Pheromosa    Pheroacheフェローチェ         570     137   \n",
              "795             796   Xurkitree   Denjyumokuデンジュモク         570      89   \n",
              "796             797  Celesteela     Tekkaguyaテッカグヤ         570     101   \n",
              "797             798     Kartana    Kamiturugiカミツルギ         570     181   \n",
              "798             799    Guzzlord    Akuzikingアクジキング         570     101   \n",
              "799             800    Necrozma      Necrozmaネクロズマ         600     107   \n",
              "800             801    Magearna       Magearnaマギアナ         600      95   \n",
              "\n",
              "     defense  sp_attack  sp_defense  speed   hp  capture_rate  \n",
              "0         49         65          65     45   45            45  \n",
              "1         63         80          80     60   60            45  \n",
              "2        123        122         120     80   80            45  \n",
              "3         43         60          50     65   39            45  \n",
              "4         58         80          65     80   58            45  \n",
              "5         78        159         115    100   78            45  \n",
              "6         65         50          64     43   44            45  \n",
              "7         80         65          80     58   59            45  \n",
              "8        120        135         115     78   79            45  \n",
              "9         35         20          20     45   45           255  \n",
              "10        55         25          25     30   50           120  \n",
              "11        50         90          80     70   60            45  \n",
              "12        30         20          20     50   40           255  \n",
              "13        50         25          25     35   45           120  \n",
              "14        40         15          80    145   65            45  \n",
              "15        40         35          35     56   40           255  \n",
              "16        55         50          50     71   63           120  \n",
              "17        80        135          80    121   83            45  \n",
              "18        35         25          35     72   30           255  \n",
              "19        70         40          80     77   75           127  \n",
              "20        30         31          31     70   40           255  \n",
              "21        65         61          61    100   65            90  \n",
              "22        44         40          54     55   35           255  \n",
              "23        69         65          79     80   60            90  \n",
              "24        40         50          50     90   35           190  \n",
              "25        50         95          85    110   60            75  \n",
              "26        90         10          35     40   50           255  \n",
              "27       120         25          65     65   75            90  \n",
              "28        52         40          40     41   55           235  \n",
              "29        67         55          55     56   70           120  \n",
              "..       ...        ...         ...    ...  ...           ...  \n",
              "771       95         95          95     59   95             3  \n",
              "772       95         95          95     95   95             3  \n",
              "773       60        100          60    120   60            30  \n",
              "774       65         75          95     65   65            45  \n",
              "775      135         91          85     36   60            70  \n",
              "776       63         40          73     96   65           180  \n",
              "777       80         50         105     96   55            45  \n",
              "778       70         70          70     92   68            80  \n",
              "779       85        135          91     36   78            70  \n",
              "780      100         86          90     40   70            25  \n",
              "781       65         45          45     45   45            45  \n",
              "782       90         65          70     65   55            45  \n",
              "783      125        100         105     85   75            45  \n",
              "784       85         95          75    130   70             3  \n",
              "785       75        130         115     95   70             3  \n",
              "786      115         85          95     75   70             3  \n",
              "787      115         95         130     85   70             3  \n",
              "788       31         29          31     37   43            45  \n",
              "789      131         29         131     37   43            45  \n",
              "790      107        113          89     97  137            45  \n",
              "791       89        137         107     97  137            45  \n",
              "792       47        127         131    103  109            45  \n",
              "793      139         53          53     79  107            25  \n",
              "794       37        137          37    151   71           255  \n",
              "795       71        173          71     83   83            30  \n",
              "796      103        107         101     61   97            25  \n",
              "797      131         59          31    109   59           255  \n",
              "798       53         97          53     43  223            15  \n",
              "799      101        127          89     79   97             3  \n",
              "800      115        130         115     65   80             3  \n",
              "\n",
              "[801 rows x 11 columns]"
            ]
          },
          "metadata": {
            "tags": []
          },
          "execution_count": 38
        }
      ]
    },
    {
      "metadata": {
        "id": "SMuWSLFaDGlz",
        "colab_type": "code",
        "colab": {
          "base_uri": "https://localhost:8080/",
          "height": 297
        },
        "outputId": "65388f03-3344-4d42-ca91-a1421d6410b9"
      },
      "cell_type": "code",
      "source": [
        "df_pokemon.describe()"
      ],
      "execution_count": 39,
      "outputs": [
        {
          "output_type": "execute_result",
          "data": {
            "text/html": [
              "<div>\n",
              "<style scoped>\n",
              "    .dataframe tbody tr th:only-of-type {\n",
              "        vertical-align: middle;\n",
              "    }\n",
              "\n",
              "    .dataframe tbody tr th {\n",
              "        vertical-align: top;\n",
              "    }\n",
              "\n",
              "    .dataframe thead th {\n",
              "        text-align: right;\n",
              "    }\n",
              "</style>\n",
              "<table border=\"1\" class=\"dataframe\">\n",
              "  <thead>\n",
              "    <tr style=\"text-align: right;\">\n",
              "      <th></th>\n",
              "      <th>pokedex_number</th>\n",
              "      <th>base_total</th>\n",
              "      <th>attack</th>\n",
              "      <th>defense</th>\n",
              "      <th>sp_attack</th>\n",
              "      <th>sp_defense</th>\n",
              "      <th>speed</th>\n",
              "      <th>hp</th>\n",
              "      <th>capture_rate</th>\n",
              "    </tr>\n",
              "  </thead>\n",
              "  <tbody>\n",
              "    <tr>\n",
              "      <th>count</th>\n",
              "      <td>801.000000</td>\n",
              "      <td>801.000000</td>\n",
              "      <td>801.000000</td>\n",
              "      <td>801.000000</td>\n",
              "      <td>801.000000</td>\n",
              "      <td>801.000000</td>\n",
              "      <td>801.000000</td>\n",
              "      <td>801.000000</td>\n",
              "      <td>801.000000</td>\n",
              "    </tr>\n",
              "    <tr>\n",
              "      <th>mean</th>\n",
              "      <td>401.000000</td>\n",
              "      <td>428.377029</td>\n",
              "      <td>77.857678</td>\n",
              "      <td>73.008739</td>\n",
              "      <td>71.305868</td>\n",
              "      <td>70.911361</td>\n",
              "      <td>66.334582</td>\n",
              "      <td>68.958801</td>\n",
              "      <td>98.675406</td>\n",
              "    </tr>\n",
              "    <tr>\n",
              "      <th>std</th>\n",
              "      <td>231.373075</td>\n",
              "      <td>119.203577</td>\n",
              "      <td>32.158820</td>\n",
              "      <td>30.769159</td>\n",
              "      <td>32.353826</td>\n",
              "      <td>27.942501</td>\n",
              "      <td>28.907662</td>\n",
              "      <td>26.576015</td>\n",
              "      <td>76.248866</td>\n",
              "    </tr>\n",
              "    <tr>\n",
              "      <th>min</th>\n",
              "      <td>1.000000</td>\n",
              "      <td>180.000000</td>\n",
              "      <td>5.000000</td>\n",
              "      <td>5.000000</td>\n",
              "      <td>10.000000</td>\n",
              "      <td>20.000000</td>\n",
              "      <td>5.000000</td>\n",
              "      <td>1.000000</td>\n",
              "      <td>3.000000</td>\n",
              "    </tr>\n",
              "    <tr>\n",
              "      <th>25%</th>\n",
              "      <td>201.000000</td>\n",
              "      <td>320.000000</td>\n",
              "      <td>55.000000</td>\n",
              "      <td>50.000000</td>\n",
              "      <td>45.000000</td>\n",
              "      <td>50.000000</td>\n",
              "      <td>45.000000</td>\n",
              "      <td>50.000000</td>\n",
              "      <td>45.000000</td>\n",
              "    </tr>\n",
              "    <tr>\n",
              "      <th>50%</th>\n",
              "      <td>401.000000</td>\n",
              "      <td>435.000000</td>\n",
              "      <td>75.000000</td>\n",
              "      <td>70.000000</td>\n",
              "      <td>65.000000</td>\n",
              "      <td>66.000000</td>\n",
              "      <td>65.000000</td>\n",
              "      <td>65.000000</td>\n",
              "      <td>60.000000</td>\n",
              "    </tr>\n",
              "    <tr>\n",
              "      <th>75%</th>\n",
              "      <td>601.000000</td>\n",
              "      <td>505.000000</td>\n",
              "      <td>100.000000</td>\n",
              "      <td>90.000000</td>\n",
              "      <td>91.000000</td>\n",
              "      <td>90.000000</td>\n",
              "      <td>85.000000</td>\n",
              "      <td>80.000000</td>\n",
              "      <td>170.000000</td>\n",
              "    </tr>\n",
              "    <tr>\n",
              "      <th>max</th>\n",
              "      <td>801.000000</td>\n",
              "      <td>780.000000</td>\n",
              "      <td>185.000000</td>\n",
              "      <td>230.000000</td>\n",
              "      <td>194.000000</td>\n",
              "      <td>230.000000</td>\n",
              "      <td>180.000000</td>\n",
              "      <td>255.000000</td>\n",
              "      <td>255.000000</td>\n",
              "    </tr>\n",
              "  </tbody>\n",
              "</table>\n",
              "</div>"
            ],
            "text/plain": [
              "       pokedex_number  base_total      attack     defense   sp_attack  \\\n",
              "count      801.000000  801.000000  801.000000  801.000000  801.000000   \n",
              "mean       401.000000  428.377029   77.857678   73.008739   71.305868   \n",
              "std        231.373075  119.203577   32.158820   30.769159   32.353826   \n",
              "min          1.000000  180.000000    5.000000    5.000000   10.000000   \n",
              "25%        201.000000  320.000000   55.000000   50.000000   45.000000   \n",
              "50%        401.000000  435.000000   75.000000   70.000000   65.000000   \n",
              "75%        601.000000  505.000000  100.000000   90.000000   91.000000   \n",
              "max        801.000000  780.000000  185.000000  230.000000  194.000000   \n",
              "\n",
              "       sp_defense       speed          hp  capture_rate  \n",
              "count  801.000000  801.000000  801.000000    801.000000  \n",
              "mean    70.911361   66.334582   68.958801     98.675406  \n",
              "std     27.942501   28.907662   26.576015     76.248866  \n",
              "min     20.000000    5.000000    1.000000      3.000000  \n",
              "25%     50.000000   45.000000   50.000000     45.000000  \n",
              "50%     66.000000   65.000000   65.000000     60.000000  \n",
              "75%     90.000000   85.000000   80.000000    170.000000  \n",
              "max    230.000000  180.000000  255.000000    255.000000  "
            ]
          },
          "metadata": {
            "tags": []
          },
          "execution_count": 39
        }
      ]
    },
    {
      "metadata": {
        "id": "eti1xKmskF2L",
        "colab_type": "code",
        "colab": {
          "base_uri": "https://localhost:8080/",
          "height": 204
        },
        "outputId": "575bcdcc-80da-413e-ceb7-31aaa3beab13"
      },
      "cell_type": "code",
      "source": [
        "df_pokemon.sort_values('hp', ascending=False).head()"
      ],
      "execution_count": 40,
      "outputs": [
        {
          "output_type": "execute_result",
          "data": {
            "text/html": [
              "<div>\n",
              "<style scoped>\n",
              "    .dataframe tbody tr th:only-of-type {\n",
              "        vertical-align: middle;\n",
              "    }\n",
              "\n",
              "    .dataframe tbody tr th {\n",
              "        vertical-align: top;\n",
              "    }\n",
              "\n",
              "    .dataframe thead th {\n",
              "        text-align: right;\n",
              "    }\n",
              "</style>\n",
              "<table border=\"1\" class=\"dataframe\">\n",
              "  <thead>\n",
              "    <tr style=\"text-align: right;\">\n",
              "      <th></th>\n",
              "      <th>pokedex_number</th>\n",
              "      <th>name</th>\n",
              "      <th>japanese_name</th>\n",
              "      <th>base_total</th>\n",
              "      <th>attack</th>\n",
              "      <th>defense</th>\n",
              "      <th>sp_attack</th>\n",
              "      <th>sp_defense</th>\n",
              "      <th>speed</th>\n",
              "      <th>hp</th>\n",
              "      <th>capture_rate</th>\n",
              "    </tr>\n",
              "  </thead>\n",
              "  <tbody>\n",
              "    <tr>\n",
              "      <th>241</th>\n",
              "      <td>242</td>\n",
              "      <td>Blissey</td>\n",
              "      <td>Happinasハピナス</td>\n",
              "      <td>540</td>\n",
              "      <td>10</td>\n",
              "      <td>10</td>\n",
              "      <td>75</td>\n",
              "      <td>135</td>\n",
              "      <td>55</td>\n",
              "      <td>255</td>\n",
              "      <td>30</td>\n",
              "    </tr>\n",
              "    <tr>\n",
              "      <th>112</th>\n",
              "      <td>113</td>\n",
              "      <td>Chansey</td>\n",
              "      <td>Luckyラッキー</td>\n",
              "      <td>450</td>\n",
              "      <td>5</td>\n",
              "      <td>5</td>\n",
              "      <td>35</td>\n",
              "      <td>105</td>\n",
              "      <td>50</td>\n",
              "      <td>250</td>\n",
              "      <td>30</td>\n",
              "    </tr>\n",
              "    <tr>\n",
              "      <th>798</th>\n",
              "      <td>799</td>\n",
              "      <td>Guzzlord</td>\n",
              "      <td>Akuzikingアクジキング</td>\n",
              "      <td>570</td>\n",
              "      <td>101</td>\n",
              "      <td>53</td>\n",
              "      <td>97</td>\n",
              "      <td>53</td>\n",
              "      <td>43</td>\n",
              "      <td>223</td>\n",
              "      <td>15</td>\n",
              "    </tr>\n",
              "    <tr>\n",
              "      <th>717</th>\n",
              "      <td>718</td>\n",
              "      <td>Zygarde</td>\n",
              "      <td>Zygarde (10% Forme)ジガルデ</td>\n",
              "      <td>708</td>\n",
              "      <td>100</td>\n",
              "      <td>121</td>\n",
              "      <td>91</td>\n",
              "      <td>95</td>\n",
              "      <td>85</td>\n",
              "      <td>216</td>\n",
              "      <td>3</td>\n",
              "    </tr>\n",
              "    <tr>\n",
              "      <th>201</th>\n",
              "      <td>202</td>\n",
              "      <td>Wobbuffet</td>\n",
              "      <td>Sonansソーナンス</td>\n",
              "      <td>405</td>\n",
              "      <td>33</td>\n",
              "      <td>58</td>\n",
              "      <td>33</td>\n",
              "      <td>58</td>\n",
              "      <td>33</td>\n",
              "      <td>190</td>\n",
              "      <td>45</td>\n",
              "    </tr>\n",
              "  </tbody>\n",
              "</table>\n",
              "</div>"
            ],
            "text/plain": [
              "     pokedex_number       name            japanese_name  base_total  attack  \\\n",
              "241             242    Blissey             Happinasハピナス         540      10   \n",
              "112             113    Chansey                Luckyラッキー         450       5   \n",
              "798             799   Guzzlord          Akuzikingアクジキング         570     101   \n",
              "717             718    Zygarde  Zygarde (10% Forme)ジガルデ         708     100   \n",
              "201             202  Wobbuffet              Sonansソーナンス         405      33   \n",
              "\n",
              "     defense  sp_attack  sp_defense  speed   hp  capture_rate  \n",
              "241       10         75         135     55  255            30  \n",
              "112        5         35         105     50  250            30  \n",
              "798       53         97          53     43  223            15  \n",
              "717      121         91          95     85  216             3  \n",
              "201       58         33          58     33  190            45  "
            ]
          },
          "metadata": {
            "tags": []
          },
          "execution_count": 40
        }
      ]
    },
    {
      "metadata": {
        "id": "YF4hYfXqDKoX",
        "colab_type": "code",
        "colab": {
          "base_uri": "https://localhost:8080/",
          "height": 347
        },
        "outputId": "eb34a75c-0a8b-4e08-bbc5-53d3635bce1f"
      },
      "cell_type": "code",
      "source": [
        "df_pokemon.plot.scatter(x=\"attack\", y=\"defense\", c=\"base_total\")"
      ],
      "execution_count": 41,
      "outputs": [
        {
          "output_type": "execute_result",
          "data": {
            "text/plain": [
              "<matplotlib.axes._subplots.AxesSubplot at 0x7f3eb0fe32b0>"
            ]
          },
          "metadata": {
            "tags": []
          },
          "execution_count": 41
        },
        {
          "output_type": "display_data",
          "data": {
            "image/png": "[encoded data removed]",
            "text/plain": [
              "<Figure size 576x396 with 2 Axes>"
            ]
          },
          "metadata": {
            "tags": []
          }
        }
      ]
    },
    {
      "metadata": {
        "id": "fEQ7z_MPjerh",
        "colab_type": "code",
        "colab": {}
      },
      "cell_type": "code",
      "source": [
        "################################################################################\n",
        "# TODO:                                                                        #\n",
        "# Try to use sorting to find the 5 lowest defense pokemons.                    #\n",
        "################################################################################\n",
        "\n",
        "\n",
        "\n",
        "################################################################################\n",
        "#                                 END OF YOUR CODE                             #\n",
        "################################################################################"
      ],
      "execution_count": 0,
      "outputs": []
    },
    {
      "metadata": {
        "id": "-czuzwg1kvDm",
        "colab_type": "code",
        "colab": {}
      },
      "cell_type": "code",
      "source": [
        "################################################################################\n",
        "# TODO:                                                                        #\n",
        "# Try to plot the relationship between sp_attack and sp_defense.               #\n",
        "################################################################################\n",
        "\n",
        "\n",
        "\n",
        "################################################################################\n",
        "#                                 END OF YOUR CODE                             #\n",
        "################################################################################"
      ],
      "execution_count": 0,
      "outputs": []
    }
  ]
}